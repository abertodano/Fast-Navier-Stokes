{
 "cells": [
  {
   "cell_type": "markdown",
   "id": "e89d0fb5-7fec-4269-9371-9d0ea990d6ea",
   "metadata": {
    "tags": []
   },
   "source": [
    "# IMPORTS"
   ]
  },
  {
   "cell_type": "code",
   "execution_count": 22,
   "id": "8c8cd00f-12fd-43e5-bc20-a0d4a975eb6b",
   "metadata": {},
   "outputs": [],
   "source": [
    "import matplotlib as mpl\n",
    "import matplotlib.pyplot as plt\n",
    "from numba import jit\n",
    "import numpy as np\n",
    "from scipy import optimize\n",
    "\n",
    "import sys \n",
    "sys.path.append(\"C:\\\\Work\\\\Fast-Navier-Stokes\") #tell where to look for package\n",
    "#import MyPackages.periodicnumerics as num\n",
    "#from importlib import reload\n",
    "#reload(num) #make sure any changes have been loaded in, useful if modifying while running\n",
    "\n",
    "#random number gen\n",
    "rng = np.random.default_rng()"
   ]
  },
  {
   "cell_type": "markdown",
   "id": "9f8028b2-f147-45ea-9ac9-eea41e94c5a3",
   "metadata": {
    "tags": []
   },
   "source": [
    "# CODE"
   ]
  },
  {
   "cell_type": "markdown",
   "id": "c5435462-7c3c-4ac1-b962-612c2eafdf07",
   "metadata": {},
   "source": [
    "## PDE FUNCTIONS"
   ]
  },
  {
   "cell_type": "code",
   "execution_count": 24,
   "id": "c07d93fd-da4e-49d3-a9ec-73414353e346",
   "metadata": {},
   "outputs": [],
   "source": [
    "def IterateFNS(u_prev, v_prev):\n",
    "    return u_prev, v_prev\n",
    "\n",
    "def NextTimeStepFNS(u,v):\n",
    "    intol = False #init in-tolerance marker\n",
    "    u_iter, v_iter = u, v #set last timestep values as first pre-iteration values\n",
    "    \n",
    "    while not intol: #while not in tolerance\n",
    "        u_iter, v_iter = IterateFNS(u_iter, v_iter) #iterate\n",
    "        if True: #check if in tolerance\n",
    "            intol = True #mark as in tolerance\n",
    "        \n",
    "    u_new, v_new = u, v #if in tolerance, take as final values\n",
    "    return u_new, v_new"
   ]
  },
  {
   "cell_type": "markdown",
   "id": "99a418dc-2ecc-473d-9c6b-ec3d115ea9c0",
   "metadata": {},
   "source": [
    "## RUN FUNCTION"
   ]
  },
  {
   "cell_type": "code",
   "execution_count": 30,
   "id": "6e22add8-8e84-41cf-bbb8-b965e2246f8c",
   "metadata": {},
   "outputs": [],
   "source": [
    "def RunFNS(tend, dt, init_cond):\n",
    "    \n",
    "    ntimesteps = round(tend/dt) #number of timesteps\n",
    "    print(f'ntimesteps \\n{ntimesteps}\\n') #output the number of timesteps to be run\n",
    "\n",
    "    #if shortmemory: #if only one timestep to be kept #FOR LATER WHEN I'M NOT DEBUGGING\n",
    "    #else: #if all timesteps to be kept\n",
    "    \n",
    "    #initialize arrays for data, ntimesteps x N x N\n",
    "    u, v = np.zeros((ntimesteps,N,N)), np.zeros((ntimesteps,N,N))\n",
    "    \n",
    "    #load initial conditions\n",
    "    u[0], v[0] = init_cond\n",
    "    \n",
    "    #run the code, iterating timesteps\n",
    "    for i in range(1,ntimesteps):\n",
    "        u[i], v[i] = NextTimeStepFNS(u[i-1],v[i-1]) #set new variable values after a timestep\n",
    "        if np.any(np.isnan(u[i]) | np.isnan(v[i])): #break if blown up\n",
    "            print(f'Blowup at timestep {i}, t = {i*dt:.5}')\n",
    "            break\n",
    "        if i%10000 == 0: #output progress every 10000 timesteps\n",
    "            print('timestep: ' + str(i))\n",
    "    \n",
    "    return u, v"
   ]
  },
  {
   "cell_type": "markdown",
   "id": "df31e5fe-3fe6-472b-8e55-eb5e165b3cfb",
   "metadata": {},
   "source": [
    "# INPUT DECK"
   ]
  },
  {
   "cell_type": "code",
   "execution_count": 31,
   "id": "70733664-cd48-4db4-81b6-30d9bfbde33f",
   "metadata": {},
   "outputs": [],
   "source": [
    "lx, ly = 0.01, 0.01 #dimensions of simulation box in m, m\n",
    "\n",
    "#numerical parameters\n",
    "Nx, Ny = 100, 100 #number of nodes each side\n",
    "dx, dy = lx/Nx, ly/Ny #dimensions of each node\n",
    "v_Co = 1\n",
    "dt = min(dx, dy)/v_Co"
   ]
  },
  {
   "cell_type": "code",
   "execution_count": 32,
   "id": "cda89cd2-723f-4faa-aeb5-641556f1e047",
   "metadata": {},
   "outputs": [
    {
     "data": {
      "text/plain": [
       "0.0001"
      ]
     },
     "execution_count": 32,
     "metadata": {},
     "output_type": "execute_result"
    }
   ],
   "source": [
    "min(dx,dy)"
   ]
  },
  {
   "cell_type": "markdown",
   "id": "6461741c-962b-45bf-85de-b73da825be81",
   "metadata": {},
   "source": [
    "# INITIAL CONDITIONS"
   ]
  },
  {
   "cell_type": "code",
   "execution_count": 33,
   "id": "f571ee8e-55e6-4bd3-b69c-e743749a91e2",
   "metadata": {},
   "outputs": [],
   "source": [
    "u0 = np.ones((Nx,Ny))*.1 #velocity in x direction\n",
    "v0 = np.zeros((Nx,Ny)) #velocity in y direction\n",
    "#P0 = np.zeros((Nx,Ny)) #pressure #doing this for now because the initial pressure doesn't actually matter now. Can try doing a simple Laplace solver on the BC's as an upgrade.\n",
    "\n",
    "init_cond0 = [u0, v0] #packed list of initial conditions"
   ]
  },
  {
   "cell_type": "code",
   "execution_count": 34,
   "id": "9d7f512e-a1d7-4fc3-94dd-fd655bfeca22",
   "metadata": {},
   "outputs": [
    {
     "name": "stdout",
     "output_type": "stream",
     "text": [
      "ntimesteps \n",
      "10001\n",
      "\n",
      "timestep: 10000\n"
     ]
    }
   ],
   "source": [
    "tend = 1*1. + dt #simulated time in seconds\n",
    "ic = init_cond0 #initial conditions to be used\n",
    "u, v = RunFNS(tend, dt, ic)"
   ]
  }
 ],
 "metadata": {
  "kernelspec": {
   "display_name": "Python 3 (ipykernel)",
   "language": "python",
   "name": "python3"
  },
  "language_info": {
   "codemirror_mode": {
    "name": "ipython",
    "version": 3
   },
   "file_extension": ".py",
   "mimetype": "text/x-python",
   "name": "python",
   "nbconvert_exporter": "python",
   "pygments_lexer": "ipython3",
   "version": "3.11.7"
  }
 },
 "nbformat": 4,
 "nbformat_minor": 5
}
