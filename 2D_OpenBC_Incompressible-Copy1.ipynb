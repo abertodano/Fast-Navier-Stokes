{
 "cells": [
  {
   "cell_type": "markdown",
   "id": "e89d0fb5-7fec-4269-9371-9d0ea990d6ea",
   "metadata": {
    "tags": []
   },
   "source": [
    "# IMPORTS"
   ]
  },
  {
   "cell_type": "code",
   "execution_count": 32,
   "id": "8c8cd00f-12fd-43e5-bc20-a0d4a975eb6b",
   "metadata": {},
   "outputs": [],
   "source": [
    "import matplotlib as mpl\n",
    "import matplotlib.pyplot as plt\n",
    "from numba import jit\n",
    "import numpy as np\n",
    "from scipy import optimize\n",
    "import pickle\n",
    "\n",
    "import sys \n",
    "sys.path.append(\"C:\\\\Work\\\\Fast-Navier-Stokes\") #tell where to look for package\n",
    "#import MyPackages.periodicnumerics as num\n",
    "#from importlib import reload\n",
    "#reload(num) #make sure any changes have been loaded in, useful if modifying while running\n",
    "\n",
    "#random number gen\n",
    "rng = np.random.default_rng()"
   ]
  },
  {
   "cell_type": "markdown",
   "id": "9f8028b2-f147-45ea-9ac9-eea41e94c5a3",
   "metadata": {
    "tags": []
   },
   "source": [
    "# CODE"
   ]
  },
  {
   "cell_type": "markdown",
   "id": "8f5b05ad-e96c-40ea-9221-e0c55b4e0444",
   "metadata": {},
   "source": [
    "## NUMERICS DISCRETIZATIONS"
   ]
  },
  {
   "cell_type": "code",
   "execution_count": 33,
   "id": "4cf98eeb-3dc6-4807-803d-6978b1d0acab",
   "metadata": {},
   "outputs": [],
   "source": [
    "@jit(nopython = True)\n",
    "def centerize(u,v): #get cell-center values from cell-face values for x and y components of a vector (assumed a velocity)\n",
    "    return (u[1:] + u[:-1])/2, (v[:,1:] + v[:,:-1])/2\n",
    "\n",
    "@jit(nopython = True)\n",
    "def xdivc(u): #calculate x derivative of cell-center defined gradient field, center diff\n",
    "    dudx = np.zeros((Nx,Ny)) #initialize return array\n",
    "    \n",
    "    dudx[1:-1] = (u[2:] - u[:-2])/(2*dx) #fill in non-edge values\n",
    "    dudx[0] = (u[1] - u[0])/dx #left edge (assume consistent gradient at bnd)\n",
    "    dudx[-1] = (u[-1] - u[-2])/dx #right edge (assume consistent gradient at bnd)\n",
    "    \n",
    "    return dudx\n",
    "\n",
    "@jit(nopython = True)\n",
    "def ydivc(u): #calculate y derivative of cell-center defined gradient field, center diff\n",
    "    dudy = np.zeros((Nx,Ny)) #initialize return array\n",
    "    \n",
    "    dudy[:,1:-1] = (u[:,2:] - u[:,:-2])/(2*dy) #fill in non-edge values\n",
    "    dudy[:,0] = (u[:,1] - u[:,0])/dy #bottom edge (assume consistent gradient at bnd)\n",
    "    dudy[:,-1] = (u[:,-1] - u[:,-2])/dy #top edge (assume consistent gradient at bnd)\n",
    "    \n",
    "    return dudy\n",
    "\n",
    "@jit(nopython = True)\n",
    "def get_curl(u,v,dx,dy): #calculate approximate curl of velocity field. #input velocities defined at cell bnds, return divergences at cell vertices. #x velocity (u), y velocity (v)\n",
    "    return (u[1:-1,1:] - u[1:-1,:-1])/dy - (v[1:,1:-1] - v[:-1,1:-1])/dx\n",
    "\n",
    "@jit(nopython = True)\n",
    "def get_div(u,v,dx,dy): #calculate approximate divergence of velocity field. #input velocities defined at cell bnds, return divergences at cell centers. #x velocity (u), y velocity (v)\n",
    "    dudx, dvdy = (u[1:] - u[:-1])/dx, (v[:,1:] - v[:,:-1])/dy #velocity gradient components\n",
    "    return dudx + dvdy"
   ]
  },
  {
   "cell_type": "markdown",
   "id": "c5435462-7c3c-4ac1-b962-612c2eafdf07",
   "metadata": {},
   "source": [
    "## PDE FUNCTIONS"
   ]
  },
  {
   "cell_type": "code",
   "execution_count": 42,
   "id": "c07d93fd-da4e-49d3-a9ec-73414353e346",
   "metadata": {},
   "outputs": [],
   "source": [
    "#@jit(nopython=True)\n",
    "def ViscForces(u_c, v_c): #calculate x and y components of viscous forces at cell centers #input cell-center values of velocities\n",
    "    Fvisc_x, Fvisc_y = np.zeros((Nx,Ny)), np.zeros((Nx,Ny)) #placeholder\n",
    "    return Fvisc_x, Fvisc_y\n",
    "\n",
    "#@jit(nopython=True)\n",
    "def DragForces(u_c, v_c): #calculate x and y components of a simple square-law drag (imagine plates above and below the 2-D plane) at cell centers #input cell-center values of velocities\n",
    "    mag_c = np.sqrt(u_c**2 + v_c**2) #velocity vector magnitude\n",
    "    return -C_D*u_c*mag_c, -C_D*v_c*mag_c #drag force density components. in opposition to direction of velocity, with vel*2 as magnitude\n",
    "\n",
    "#@jit(nopython=True)\n",
    "def OneStepIterateFNS(u, v, dudt_pre, dvdt_pre, delP_x, delP_y): #iterate time derivatives of the velocities\n",
    "    u_c, v_c = centerize(u, v) #get cell-center averages of the velocities\n",
    "    \n",
    "    ddx_dudt, ddy_dvdt = (dudt_pre[1:] - dudt_pre[:-1])/dx, (dvdt_pre[:,1:] - dvdt_pre[:,:-1])/dy #get x div of previous iteration dudt's, y div of dvdt's at cell centers\n",
    "    dDdt_x, dDdt_y =  -np.cumsum(ddy_dvdt, axis=0)*dx, -np.cumsum(ddx_dudt, axis=1)*dy #point to point deltas along x (for u) lines and y (for v) lines respectively. From divergence = 0 formula.\n",
    "    #print(dDdt_x)\n",
    "\n",
    "    #print(u[-1])\n",
    "    #print(u[0])\n",
    "    adv_x_x, adv_y_y = (u[-1]**2 - u[0]**2)/2, (v[:,-1]**2 - v[:,0]**2)/2 #self-advection (integrated over channel)\n",
    "    #print(adv_x_x, adv_y_y)\n",
    "    adv_x_y, adv_y_x = v_c*ydivc(u_c), u_c*xdivc(v_c) #cross-advection (per node)\n",
    "\n",
    "    Fvisc_x, Fvisc_y = ViscForces(u_c, v_c) #viscous forces\n",
    "    Fdrag_x, Fdrag_y = DragForces(u_c, v_c) #simple drag forces\n",
    "    F_x, F_y = Fvisc_x + Fdrag_x, Fvisc_y + Fdrag_y #summed forces\n",
    "    \n",
    "    dudt_lb, dvdt_bb = (np.sum(F_x - adv_x_y, axis=0)*dx - adv_x_x - delP_x - np.sum(dDdt_x, axis=0)*dx)/lx, (np.sum(F_y - adv_y_x, axis=1)*dy - adv_y_y - delP_y - np.sum(dDdt_y, axis=1)*dy)/ly #integral method to calculate left bnd u, bottom bnd v \n",
    " \n",
    "    dudt_post, dvdt_post = np.append([dudt_lb], dDdt_x + dudt_lb, axis=0), np.swapaxes(np.append([dvdt_bb], dDdt_y + dvdt_bb, axis=0), 0,1) #re-add deltas\n",
    "    \n",
    "    return dudt_post, dvdt_post #return iterated values\n",
    "\n",
    "#@jit(nopython=True)\n",
    "def IteratorFNS(u, v, dudt_prev, dvdt_prev, delP_x, delP_y): #run multiple iterations until tolerance threshold reached\n",
    "    intol = False #init in-tolerance marker\n",
    "    dudt_pre, dvdt_pre = dudt_prev, dvdt_prev #set last timestep values as first \"guess\" pre-values\n",
    "    itercount = 0 #number of iterations (for debugging)\n",
    "    \n",
    "    while not intol and itercount < 100: #while not in tolerance\n",
    "        dudt_post, dvdt_post = OneStepIterateFNS(u, v, dudt_pre, dvdt_pre, delP_x, delP_y) #iterate\n",
    "        iterdiff_u, iterdiff_v = np.abs(dudt_post - dudt_pre), np.abs(dvdt_post - dvdt_pre) #abs difference in velocity divs vs. last iteration\n",
    "        totaldiff_u, totaldiff_v = np.abs(dudt_post - dudt_prev), np.abs(dvdt_post - dvdt_prev) #abs difference in velocity divs vs. last timestep\n",
    "        #print(np.max(iterdiff_u))\n",
    "        #print(np.max(iterdiff_v))\n",
    "        \n",
    "        if np.max(iterdiff_u/(totaldiff_u+1e-12)) < tol and np.max(iterdiff_v/(totaldiff_v+1e-12)) < tol: #check if in tolerance\n",
    "            intol = True #mark as in tolerance\n",
    "\n",
    "        dudt_pre, dvdt_pre = dudt_post, dvdt_post #push back values to \"pre\" for next iteration\n",
    "        itercount+=1 #add to number of iterations (for debugging)\n",
    "\n",
    "    if itercount >= 100:\n",
    "        print('Broken')\n",
    "\n",
    "    return dudt_post, dvdt_post #once in tolerance, return final values\n",
    "    \n",
    "#@jit(nopython=True)\n",
    "def NextTimeStepFNS(u, v, dudt_prev, dvdt_prev, delP_x, delP_y): #midpoint method to march velocities forward in time.\n",
    "    dudt_0, dvdt_0 = IteratorFNS(u, v, dudt_prev, dvdt_prev, delP_x, delP_y) #solve for time divs based on intial values\n",
    "    u_mid, v_mid = u + dudt_0*dt/2, v + dvdt_0*dt/2 #get midpoint values\n",
    "\n",
    "    dudt_mid, dvdt_mid = IteratorFNS(u_mid, v_mid, dudt_0, dvdt_0, delP_x, delP_y) #solve for time divs based on midpoint values #using midpoint timedivs only as pre-iteration guesses and to gauge tolerance\n",
    "    u_new, v_new = u + dudt_mid*dt, v + dvdt_mid*dt #get final values\n",
    "    \n",
    "    return u_new, v_new, dudt_mid, dvdt_mid #return final values and time derivatives (to be used as guesses + for determining if in tolerance)"
   ]
  },
  {
   "cell_type": "markdown",
   "id": "99a418dc-2ecc-473d-9c6b-ec3d115ea9c0",
   "metadata": {},
   "source": [
    "## RUN FUNCTION"
   ]
  },
  {
   "cell_type": "code",
   "execution_count": 43,
   "id": "6e22add8-8e84-41cf-bbb8-b965e2246f8c",
   "metadata": {},
   "outputs": [],
   "source": [
    "def RunFNS(tend, dt, delP_x, delP_y, init_cond):\n",
    "    global ntimesteps\n",
    "    \n",
    "    ntimesteps = round(tend/dt) #number of timesteps\n",
    "    print(f'ntimesteps \\n{ntimesteps}\\n') #output the number of timesteps to be run\n",
    "\n",
    "    #if shortmemory: #if only one timestep to be kept #FOR LATER WHEN I'M NOT DEBUGGING\n",
    "    #else: #if all timesteps to be kept\n",
    "    \n",
    "    #initialize arrays for data, ntimesteps x Nx(+1) x Ny(+1)\n",
    "    u, v, dudt, dvdt = np.zeros((ntimesteps,Nx+1,Ny)), np.zeros((ntimesteps,Nx,Ny+1)), np.zeros((ntimesteps,Nx+1,Ny)), np.zeros((ntimesteps,Nx,Ny+1)) #face velocities, time derivatives\n",
    "    \n",
    "    #load initial conditions\n",
    "    u[0], v[0], dudt[0], dvdt[0] = init_cond\n",
    "    \n",
    "    #run the code, iterating timesteps\n",
    "    for i in range(1,ntimesteps):\n",
    "        u[i], v[i], dudt[i], dvdt[i] = NextTimeStepFNS(u[i-1],v[i-1],dudt[i-1],dvdt[i-1], delP_x, delP_y) #set new variable values after a timestep #get time derivatives to be used as guesses + for determining tolerance\n",
    "        if np.any(np.isnan(u[i])) | np.any(np.isnan(v[i])): #break if blown up\n",
    "            print(f'Blowup at timestep {i}, t = {i*dt:.5}')\n",
    "            break\n",
    "        if i%10000 == 0: #output progress every 10000 timesteps\n",
    "            print('timestep: ' + str(i))\n",
    "    \n",
    "    return u, v, dudt, dvdt"
   ]
  },
  {
   "cell_type": "markdown",
   "id": "df31e5fe-3fe6-472b-8e55-eb5e165b3cfb",
   "metadata": {},
   "source": [
    "# INPUT DECK"
   ]
  },
  {
   "cell_type": "code",
   "execution_count": 44,
   "id": "70733664-cd48-4db4-81b6-30d9bfbde33f",
   "metadata": {},
   "outputs": [
    {
     "name": "stdout",
     "output_type": "stream",
     "text": [
      "Timestep: 1e-05s\n"
     ]
    }
   ],
   "source": [
    "lx, ly = 0.01, 0.01 #dimensions of simulation box in m, m\n",
    "nu = 1e-5 #kinematic viscosity in m/s^2\n",
    "C_D = 100.*1 #drag coefficient (really divided by a flow sheet height) in m^-1\n",
    "\n",
    "#numerical parameters\n",
    "Nx, Ny = 100, 100 #number of nodes each side\n",
    "dx, dy = lx/Nx, ly/Ny #dimensions of each node\n",
    "v_Co = 10 #Courant velocity (dx/dt) in m/s\n",
    "dt = min(dx, dy)/v_Co #timestep in s\n",
    "print(f'Timestep: {dt:.2}s')\n",
    "tol = 1e-6 #tolerance of iterator (acceptable ratio of timediv diffs between iterations over diffs w.r.t. last timestep)\n",
    "shortmemory = False #whether to keep all data (False) or just last timestep (True)"
   ]
  },
  {
   "cell_type": "markdown",
   "id": "ebfe0430-38cc-4443-a4c1-69c3514bd59a",
   "metadata": {},
   "source": [
    "# BOUNDARY CONDITIONS"
   ]
  },
  {
   "cell_type": "code",
   "execution_count": 45,
   "id": "2e9444b0-bd98-4590-af31-f4225544c0d2",
   "metadata": {},
   "outputs": [],
   "source": [
    "delP_x = -np.arange(Ny)/10 #delta P's #(rng.random(Ny) - 0.5)*5 (defined right - left) across x-lines\n",
    "delP_y = np.arange(Nx)/10 #delta P's #(rng.random(Nx) - 0.5)*5 (defined left - right) across y-lines"
   ]
  },
  {
   "cell_type": "markdown",
   "id": "3b4c841a-a07b-45cf-95f3-8330c7d0f6b7",
   "metadata": {},
   "source": [
    "## SAVE BC's"
   ]
  },
  {
   "cell_type": "code",
   "execution_count": 46,
   "id": "33d0b289-8e9b-4965-a137-797816025cce",
   "metadata": {},
   "outputs": [],
   "source": [
    "savedict = {\n",
    "    'delP_x' : delP_x,\n",
    "    'delP_y' : delP_y,\n",
    "}\n",
    "\n",
    "#with open('saveBC_vortex.pkl', 'wb') as f:\n",
    "    #pickle.dump(savedict, f)"
   ]
  },
  {
   "cell_type": "markdown",
   "id": "b0d5e061-fbd8-486c-bdcf-e54db9887e12",
   "metadata": {},
   "source": [
    "## LOAD BC's"
   ]
  },
  {
   "cell_type": "code",
   "execution_count": 47,
   "id": "3b67661a-b259-4bad-847e-19a454a4c5ed",
   "metadata": {},
   "outputs": [],
   "source": [
    "with open('saveBC_vortex.pkl', 'rb') as f: #_vortex\n",
    "    savedict = pickle.load(f)\n",
    "\n",
    "delP_x = savedict['delP_x']\n",
    "delP_y = savedict['delP_y']"
   ]
  },
  {
   "cell_type": "markdown",
   "id": "6461741c-962b-45bf-85de-b73da825be81",
   "metadata": {},
   "source": [
    "# INITIAL CONDITIONS"
   ]
  },
  {
   "cell_type": "markdown",
   "id": "f26bc61f-7b7e-4fb0-afea-f8c6ce7bb594",
   "metadata": {},
   "source": [
    "SET BASE INITIAL CONDITIONS"
   ]
  },
  {
   "cell_type": "code",
   "execution_count": 48,
   "id": "f571ee8e-55e6-4bd3-b69c-e743749a91e2",
   "metadata": {},
   "outputs": [],
   "source": [
    "u0 = np.ones((Nx+1,Ny))*.1 #velocity in x direction, at horizontal cell faces\n",
    "v0 = np.zeros((Nx,Ny+1)) #velocity in y direction, at vertical cell faces\n",
    "\n",
    "#u0[-1,0] += 0.01 #add small gradients at bottom right corner (0div)\n",
    "#v0[-1,0] += 0.01\n",
    "\n",
    "u0[3,3] += 1 #add a 4-face vortex loop (0 div)\n",
    "u0[3,4] -= 1\n",
    "v0[3,4] += 1\n",
    "v0[2,4] -= 1\n",
    "\n",
    "#P0 = np.zeros((Nx,Ny)) #pressure #doing this for now because the initial pressure doesn't actually matter now. Can try doing a simple Laplace solver on the BC's as an upgrade.\n",
    "dudt0, dvdt0 = np.zeros((Nx+1,Ny)), np.zeros((Nx,Ny+1)) #0.1*(rng.random((Nx+1,Ny))-0.5), 0.1*(rng.random((Nx,Ny+1))-0.5) #guess time derivatives as 0 to start with\n",
    "#dudt0[3,3] += 0.1 #add a 4-face vortex loop (0 div)\n",
    "#dudt0[3,4] -= 0.1\n",
    "#dvdt0[3,4] += 0.1\n",
    "#dvdt0[2,4] -= 0.1\n",
    "\n",
    "init_cond0 = [u0, v0, dudt0, dvdt0] #packed list of initial conditions"
   ]
  },
  {
   "cell_type": "code",
   "execution_count": 49,
   "id": "4e6c52c2-fb01-4d86-8555-6ed8fbe3205b",
   "metadata": {},
   "outputs": [
    {
     "data": {
      "text/plain": [
       "0.0"
      ]
     },
     "execution_count": 49,
     "metadata": {},
     "output_type": "execute_result"
    }
   ],
   "source": [
    "np.max(get_div(u0,v0,dx,dy))"
   ]
  },
  {
   "cell_type": "code",
   "execution_count": 50,
   "id": "f21ec344-ea5e-48f7-bc32-bbb2a77eb0c1",
   "metadata": {},
   "outputs": [
    {
     "data": {
      "text/plain": [
       "array([[    0.,     0.,     0., ...,     0.,     0.,     0.],\n",
       "       [    0.,     0.,     0., ...,     0.,     0.,     0.],\n",
       "       [    0.,     0., 10000., ...,     0.,     0.,     0.],\n",
       "       ...,\n",
       "       [    0.,     0.,     0., ...,     0.,     0.,     0.],\n",
       "       [    0.,     0.,     0., ...,     0.,     0.,     0.],\n",
       "       [    0.,     0.,     0., ...,     0.,     0.,     0.]])"
      ]
     },
     "execution_count": 50,
     "metadata": {},
     "output_type": "execute_result"
    }
   ],
   "source": [
    "get_curl(u0,v0,dx,dy)"
   ]
  },
  {
   "cell_type": "markdown",
   "id": "420b818d-3d1d-4ddc-8d94-2264f2d54595",
   "metadata": {},
   "source": [
    "SAVE LAST TIME STEP DATA AS INITIAL CONDITION"
   ]
  },
  {
   "cell_type": "code",
   "execution_count": null,
   "id": "7694ee59-6938-4dfb-af29-6f39b421e1bc",
   "metadata": {},
   "outputs": [],
   "source": [
    "if shortmemory:\n",
    "    init_cond1 = [u, v, dudt, dvdt]\n",
    "else:\n",
    "    init_cond1 = [u[-1], v[-1], dudt[-1], dvdt[-1]]"
   ]
  },
  {
   "cell_type": "markdown",
   "id": "e188b7f9-ac2f-42b3-a01a-da093b7fd76c",
   "metadata": {},
   "source": [
    "# RUN"
   ]
  },
  {
   "cell_type": "code",
   "execution_count": 52,
   "id": "9d7f512e-a1d7-4fc3-94dd-fd655bfeca22",
   "metadata": {},
   "outputs": [
    {
     "name": "stdout",
     "output_type": "stream",
     "text": [
      "End time: 0.100s\n",
      "ntimesteps \n",
      "10001\n",
      "\n",
      "timestep: 10000\n"
     ]
    }
   ],
   "source": [
    "tend = 1*0.1 + 1*dt #simulated time in seconds\n",
    "print(f'End time: {tend:.3f}s')\n",
    "ic = init_cond0 #initial conditions to be used\n",
    "u, v, dudt, dvdt = RunFNS(tend, dt, delP_x, delP_y, ic)"
   ]
  },
  {
   "cell_type": "code",
   "execution_count": 54,
   "id": "d6d272a7-c3df-401f-ad32-40ba1532d8a9",
   "metadata": {},
   "outputs": [
    {
     "name": "stdout",
     "output_type": "stream",
     "text": [
      "[[-1.20251488 -1.20251488 -1.20251488 -2.20251488 -1.20251488]\n",
      " [-1.46097696 -1.46097696 -1.46097696 -0.46097696 -1.46097696]\n",
      " [ 1.29616153  1.29616153  1.29616153  1.29616153  1.29616153]\n",
      " [-1.36852848 -1.36852848 -1.36852848 -1.36852848 -1.36852848]\n",
      " [ 0.3924014   0.3924014   0.3924014   0.3924014   0.3924014 ]]\n",
      "[[-0.2284873  -0.32945659 -0.83184743  0.93494897 -0.19286917]\n",
      " [-0.2284873  -0.32945659  0.16815257 -0.06505103 -0.19286917]\n",
      " [-0.2284873  -0.32945659  0.16815257 -0.06505103 -0.19286917]\n",
      " [-0.2284873  -0.32945659  0.16815257 -0.06505103 -0.19286917]\n",
      " [-0.2284873  -0.32945659  0.16815257 -0.06505103 -0.19286917]]\n",
      "Divergence:\n",
      " [[0. 0. 0. ... 0. 0. 0.]\n",
      " [0. 0. 0. ... 0. 0. 0.]\n",
      " [0. 0. 0. ... 0. 0. 0.]\n",
      " ...\n",
      " [0. 0. 0. ... 0. 0. 0.]\n",
      " [0. 0. 0. ... 0. 0. 0.]\n",
      " [0. 0. 0. ... 0. 0. 0.]]\n",
      "Max divergence = 1.2732925824820995e-10\n"
     ]
    }
   ],
   "source": [
    "ts = -1 #timestep\n",
    "#print(u[-1])\n",
    "print(np.flip(np.swapaxes(u[ts][:5,:5],0,1),0))\n",
    "#print(v[-1])\n",
    "print(np.flip(np.swapaxes(v[ts][:5,:5],0,1),0))\n",
    "div = get_div(u[ts],v[ts],dx,dy)\n",
    "print(f'Divergence:\\n {div}')\n",
    "print(f'Max divergence = {np.max(div)}')"
   ]
  },
  {
   "cell_type": "code",
   "execution_count": 55,
   "id": "98ddabc5-b8a3-41e7-99db-0e04d2b2da35",
   "metadata": {},
   "outputs": [
    {
     "data": {
      "text/plain": [
       "array([[-16599.60587058,  27656.59309797, -26561.69199551, ...,\n",
       "        -17931.26228743,   4386.76968525,  22430.1433037 ],\n",
       "       [-22585.39046246,  21670.80850609, -32547.47658739, ...,\n",
       "        -23917.0468793 ,  -1599.01490662,  16444.35871182],\n",
       "       [-15277.26279493,  28978.93617361, -15239.34891987, ...,\n",
       "        -16608.91921178,   5709.1127609 ,  23752.48637934],\n",
       "       ...,\n",
       "       [-17767.13666777,  26489.06230077, -27729.22279271, ...,\n",
       "        -19098.79308462,   3219.23888806,  21262.6125065 ],\n",
       "       [-19394.42828145,  24861.77068709, -29356.51440639, ...,\n",
       "        -20726.0846983 ,   1591.94727438,  19635.32089282],\n",
       "       [-11309.55379143,  32946.64517712, -21271.63991636, ...,\n",
       "        -12641.21020828,   9676.82176441,  27720.19538285]])"
      ]
     },
     "execution_count": 55,
     "metadata": {},
     "output_type": "execute_result"
    }
   ],
   "source": [
    "get_curl(u[ts],v[ts],dx,dy)"
   ]
  },
  {
   "cell_type": "markdown",
   "id": "23fb378b-db4a-4bf6-a2b3-5835138df360",
   "metadata": {},
   "source": [
    "# VELOCITY PLOT"
   ]
  },
  {
   "cell_type": "code",
   "execution_count": null,
   "id": "df72d32d-56cd-4be6-b348-1cde5653a19d",
   "metadata": {},
   "outputs": [],
   "source": [
    "ts = -1 #timestep\n",
    "\n",
    "thinning = 5 #how much to prune dataset #int\n",
    "xs, ys = np.linspace(dx/2, lx - dx/2, round(Nx/thinning))*1000, np.linspace(dy/2, ly - dy/2, round(Ny/thinning))*1000\n",
    "Y, X = np.meshgrid(xs,ys) #why do I have to switch this? The world may never know.\n",
    "u_c, v_c = centerize(u[ts],v[ts]) #centerize\n",
    "u_c, v_c = u_c[::thinning,::thinning], v_c[::thinning,::thinning] #thin-out\n",
    "\n",
    "fig, ax = plt.subplots(figsize = (12,12))\n",
    "ax.set_xlim([-dx/2*1000,(lx + dx/2)*1000])\n",
    "ax.set_ylim([-dy/2*1000,(ly + dy/2)*1000])\n",
    "ax.quiver(X, Y, u_c, v_c, scale = 50)\n",
    "ax.set_xlabel('x [mm]', fontsize = 14)\n",
    "ax.set_ylabel('y [mm]', fontsize = 14)\n",
    "#ax.quiverkey(q, X=0.005, Y=0.005, U=10,label='Quiver key, length = 10', labelpos='E')\n",
    "\n",
    "plt.show()"
   ]
  },
  {
   "cell_type": "markdown",
   "id": "1a87334f-24f9-464b-a27f-fcdc8dbdac16",
   "metadata": {},
   "source": [
    "# MOVIES"
   ]
  },
  {
   "cell_type": "code",
   "execution_count": null,
   "id": "1a971ed6-3369-454e-8b92-a9ce9f312dfe",
   "metadata": {},
   "outputs": [],
   "source": [
    "def MoviePlot(u, v, ts):\n",
    "    fig = plt.figure(figsize = (12,12), num = 1, clear = 'True')\n",
    "    ax = fig.add_subplot(111)\n",
    "\n",
    "    fig.text(0.72,0.95, f'Time: {dt*ts:.4f} s', fontsize = 14, fontweight = 'bold')\n",
    "    \n",
    "    thinning = 5 #how much to prune dataset #int\n",
    "    xs, ys = np.linspace(dx/2, lx - dx/2, round(Nx/thinning))*1000, np.linspace(dy/2, ly - dy/2, round(Ny/thinning))*1000\n",
    "    Y, X = np.meshgrid(xs,ys) #why do I have to switch this? The world may never know.\n",
    "    u_c, v_c = centerize(u,v) #centerize\n",
    "    u_c, v_c = u_c[::thinning,::thinning], v_c[::thinning,::thinning] #thin-out\n",
    "    \n",
    "    ax.set_xlim([-dx/2*1000,(lx + dx/2)*1000])\n",
    "    ax.set_ylim([-dy/2*1000,(ly + dy/2)*1000])\n",
    "    ax.quiver(X, Y, u_c, v_c, scale = 50)\n",
    "    ax.set_xlabel('x [mm]', fontsize = 14)\n",
    "    ax.set_ylabel('y [mm]', fontsize = 14)\n",
    "        \n",
    "    plt.savefig('Pictures+Movies/MovieDump/frame' + str(ts) + '.png')\n",
    "    plt.close()"
   ]
  },
  {
   "cell_type": "code",
   "execution_count": null,
   "id": "34e6c355-4037-46ca-885e-bd9bec44f367",
   "metadata": {},
   "outputs": [],
   "source": [
    "#save frames from long memory all at once\n",
    "fps = 3000 #desired frames per second (reproduced approximately)\n",
    "interval = int(np.ceil(1/fps/dt)) #number of timesteps skipped every frame to approximately reproduce desired fps\n",
    "ntmod = ntimesteps - ntimesteps%interval #largest number of timesteps that can be evenly divided by the interval\n",
    "frames = np.linspace(interval, ntmod-interval, int(ntmod/interval), dtype=int) #timesteps to be used as frames. Start at 'interval', not 0, because RunTFM() does not iterate timestep 0\n",
    "\n",
    "for ts in frames: #plot and save figures at the timesteps in 'frames'\n",
    "     MoviePlot(u[ts], v[ts], ts)"
   ]
  },
  {
   "cell_type": "markdown",
   "id": "4229814d-d7b6-40b8-b790-c48c152de5bb",
   "metadata": {},
   "source": [
    "# MISC"
   ]
  },
  {
   "cell_type": "markdown",
   "id": "f9c8a247-75a0-403d-80ae-3e39dcde4ec5",
   "metadata": {},
   "source": [
    "## Set arrays automatically or manually? (answer: 100% automatically)"
   ]
  },
  {
   "cell_type": "code",
   "execution_count": null,
   "id": "27aa4374-085a-414a-917a-47806f702856",
   "metadata": {},
   "outputs": [],
   "source": [
    "arr = rng.random((Nx+1,Ny))\n",
    "np.shape(arr[:,1:])"
   ]
  },
  {
   "cell_type": "code",
   "execution_count": null,
   "id": "f5229af3-5739-4426-a76c-5fc1c2d98190",
   "metadata": {},
   "outputs": [],
   "source": [
    "@jit(nopython=True)\n",
    "def cutarray_numpy(arr):\n",
    "    cutarr = arr[1:][:]\n",
    "    return cutarr"
   ]
  },
  {
   "cell_type": "code",
   "execution_count": null,
   "id": "559e59d2-a0c0-49f1-8f4b-104e474cd866",
   "metadata": {},
   "outputs": [],
   "source": [
    "@jit(nopython=True)\n",
    "def cutarray_manual(arr):\n",
    "    shape = np.shape(arr) #get initial shape\n",
    "    cutarr = np.zeros((shape[0]-1,shape[1])) #init cut arr\n",
    "    for i in range(shape[0]-1): #fill\n",
    "        for j in range(shape[1]):\n",
    "            cutarr[i][j] = arr[i+1][j]\n",
    "    cutarr = arr[1:][:]\n",
    "    return cutarr"
   ]
  },
  {
   "cell_type": "code",
   "execution_count": null,
   "id": "ccad6914-5aba-4b57-9b0b-6c2f75962f30",
   "metadata": {},
   "outputs": [],
   "source": [
    "#%%timeit\n",
    "cutarr0 = cutarray_numpy(arr)"
   ]
  },
  {
   "cell_type": "code",
   "execution_count": null,
   "id": "3410699c-4c9f-4a4e-a1ba-e5dea0f13f24",
   "metadata": {},
   "outputs": [],
   "source": [
    "#%%timeit\n",
    "cutarr1 = cutarray_manual(arr)"
   ]
  },
  {
   "cell_type": "code",
   "execution_count": null,
   "id": "3391953b-0818-41ef-b5bd-7cbc7f856080",
   "metadata": {},
   "outputs": [],
   "source": [
    "# WAY SLOWER TO DO THIS MANUALLY"
   ]
  },
  {
   "cell_type": "code",
   "execution_count": null,
   "id": "7968d63c-cb9f-4b0b-bfb5-f18370c4d0be",
   "metadata": {},
   "outputs": [],
   "source": [
    "np.all(cutarr0 == cutarr1)"
   ]
  },
  {
   "cell_type": "markdown",
   "id": "8c8ec391-dc00-4c63-8507-639820030181",
   "metadata": {},
   "source": [
    "## Coordinate representation"
   ]
  },
  {
   "cell_type": "code",
   "execution_count": null,
   "id": "9e611119-41dd-4a33-bad9-fa5210ee8ee8",
   "metadata": {},
   "outputs": [],
   "source": [
    "arr = np.zeros((10,10))\n",
    "for i in range(len(arr)):\n",
    "    arr[i] = np.arange(10)\n",
    "arr2 = np.cumsum(arr,axis = 0)\n",
    "arr2"
   ]
  },
  {
   "cell_type": "code",
   "execution_count": null,
   "id": "d637969c-f0de-4c78-a8d0-e76ba6415414",
   "metadata": {},
   "outputs": [],
   "source": [
    "np.flip(np.swapaxes(arr2,0,1),0) #Cartesian redisplay"
   ]
  },
  {
   "cell_type": "markdown",
   "id": "c42207ce-b6a1-49ed-b3d2-32f203e02a22",
   "metadata": {},
   "source": [
    "### Summing and Appending"
   ]
  },
  {
   "cell_type": "code",
   "execution_count": null,
   "id": "c1f93b37-1d99-4eab-990a-2b36a49c36ae",
   "metadata": {},
   "outputs": [],
   "source": [
    "np.cumsum(arr2, axis = 1)"
   ]
  },
  {
   "cell_type": "code",
   "execution_count": null,
   "id": "9b7fc717-fe19-44ab-9a67-52053e2b7bdf",
   "metadata": {},
   "outputs": [],
   "source": [
    "np.sum(np.cumsum(arr2, axis = 1), axis = 1)"
   ]
  },
  {
   "cell_type": "code",
   "execution_count": null,
   "id": "319c61e8-079e-45e9-93a0-dbaa228a0347",
   "metadata": {},
   "outputs": [],
   "source": [
    "np.append([np.arange(3)], np.zeros((3,3)), axis = 0)"
   ]
  },
  {
   "cell_type": "code",
   "execution_count": null,
   "id": "2a9e7c1b-1262-45b3-a10f-c7a88fa4b89e",
   "metadata": {},
   "outputs": [],
   "source": [
    "yarr = np.swapaxes(np.append([np.arange(3)], np.zeros((3,3)), axis = 0),0,1)"
   ]
  },
  {
   "cell_type": "code",
   "execution_count": null,
   "id": "3756a99a-54cd-4fde-9081-e9a9491eaa92",
   "metadata": {},
   "outputs": [],
   "source": [
    "np.flip(np.swapaxes(yarr,0,1),0)"
   ]
  },
  {
   "cell_type": "markdown",
   "id": "85e89a88-c755-4e78-8f27-46336c47d2fe",
   "metadata": {},
   "source": [
    "## Derivatives"
   ]
  },
  {
   "cell_type": "code",
   "execution_count": null,
   "id": "7371128f-ddf7-41f8-a839-7284ceea035d",
   "metadata": {},
   "outputs": [],
   "source": [
    "arr = np.zeros((10,10))\n",
    "for i in range(len(arr)):\n",
    "    arr[i] = -np.arange(10) - i\n",
    "arr"
   ]
  },
  {
   "cell_type": "code",
   "execution_count": null,
   "id": "611bced1-f834-4ee5-b465-f2592efcfd05",
   "metadata": {},
   "outputs": [],
   "source": [
    "xdivc(arr)"
   ]
  },
  {
   "cell_type": "code",
   "execution_count": null,
   "id": "83ad0e57-c7c8-4dd5-832c-5b7eed383acf",
   "metadata": {},
   "outputs": [],
   "source": []
  }
 ],
 "metadata": {
  "kernelspec": {
   "display_name": "Python 3 (ipykernel)",
   "language": "python",
   "name": "python3"
  },
  "language_info": {
   "codemirror_mode": {
    "name": "ipython",
    "version": 3
   },
   "file_extension": ".py",
   "mimetype": "text/x-python",
   "name": "python",
   "nbconvert_exporter": "python",
   "pygments_lexer": "ipython3",
   "version": "3.11.7"
  }
 },
 "nbformat": 4,
 "nbformat_minor": 5
}
