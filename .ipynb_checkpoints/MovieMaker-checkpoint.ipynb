{
 "cells": [
  {
   "cell_type": "markdown",
   "metadata": {},
   "source": [
    "# MAKE MP4 FROM FRAMES"
   ]
  },
  {
   "cell_type": "code",
   "execution_count": 5,
   "metadata": {},
   "outputs": [
    {
     "name": "stdout",
     "output_type": "stream",
     "text": [
      "Moviepy - Building video Pictures+Movies/MovieDump/RandomBCVortex.mp4.\n",
      "Moviepy - Writing video Pictures+Movies/MovieDump/RandomBCVortex.mp4\n",
      "\n"
     ]
    },
    {
     "name": "stderr",
     "output_type": "stream",
     "text": [
      "                                                                                                                       "
     ]
    },
    {
     "name": "stdout",
     "output_type": "stream",
     "text": [
      "Moviepy - Done !\n",
      "Moviepy - video ready Pictures+Movies/MovieDump/RandomBCVortex.mp4\n"
     ]
    },
    {
     "name": "stderr",
     "output_type": "stream",
     "text": [
      "\r"
     ]
    }
   ],
   "source": [
    "import os\n",
    "import glob\n",
    "import moviepy.editor as mp\n",
    "\n",
    "frame_folder = 'Pictures+Movies/MovieDump/' #specify the folder frames are in (if not already given above)\n",
    "movie_path = 'Pictures+Movies/MovieDump/RandomBCVortex.mp4' #specify the desired end filepath\n",
    "\n",
    "framerate = 3000 #define ONLY if using pre-made frames\n",
    "frametimemul = 200 #3 #number of times slowdown to apply\n",
    "\n",
    "framepaths = sorted(glob.glob(f\"{frame_folder}/*.PNG\"),key=lambda x: int(''.join(filter(str.isdigit, x))))\n",
    "clip = mp.ImageSequenceClip(framepaths, fps = framerate/frametimemul) \n",
    "clip.write_videofile(movie_path)"
   ]
  }
 ],
 "metadata": {
  "kernelspec": {
   "display_name": "Python 3 (ipykernel)",
   "language": "python",
   "name": "python3"
  },
  "language_info": {
   "codemirror_mode": {
    "name": "ipython",
    "version": 3
   },
   "file_extension": ".py",
   "mimetype": "text/x-python",
   "name": "python",
   "nbconvert_exporter": "python",
   "pygments_lexer": "ipython3",
   "version": "3.11.7"
  }
 },
 "nbformat": 4,
 "nbformat_minor": 4
}
