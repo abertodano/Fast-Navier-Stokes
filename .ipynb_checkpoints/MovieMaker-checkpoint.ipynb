{
 "cells": [
  {
   "cell_type": "code",
   "execution_count": 5,
   "metadata": {
    "tags": []
   },
   "outputs": [
    {
     "name": "stdout",
     "output_type": "stream",
     "text": [
      "Output is in correct format.\n"
     ]
    }
   ],
   "source": [
    "counter = True\n",
    "i = 0\n",
    "while counter:\n",
    "    if ' # time =' in ding[i][1]:\n",
    "        counter = False\n",
    "        print(\"Output is in correct format.\")\n",
    "    elif i == len(ding) - 1:\n",
    "        counter = False\n",
    "        print(\"Output is not in correct format.\")\n",
    "    i += 1  "
   ]
  },
  {
   "cell_type": "code",
   "execution_count": 6,
   "metadata": {
    "tags": []
   },
   "outputs": [
    {
     "name": "stdout",
     "output_type": "stream",
     "text": [
      "Length of run:\n",
      "9.988273476672529\n",
      "Frames per second:\n",
      "85.93911003119852\n",
      "Number of nodes:\n",
      "1370\n"
     ]
    }
   ],
   "source": [
    "times = []\n",
    "Z = []\n",
    "alpha = []\n",
    "timestep = -1 #index to recognize # of timestep of vars, only append z's at that timestep\n",
    "for i in range(len(ding)):\n",
    "    if ' # time =' in ding[i][1]:\n",
    "        newtime = ding[i][1].lstrip(' # time =    ').rstrip('\\n')\n",
    "        newtime = float(newtime)\n",
    "        times.append(newtime)\n",
    "        alpha.append([])\n",
    "        timestep += 1 #iterate timestep\n",
    "    elif ding[i][1] != '    \\n':\n",
    "        newalpha = float(ding[i][1][17:])\n",
    "        alpha[-1].append(newalpha)\n",
    "        if timestep == 0: #check that it is the first timestep\n",
    "            newZ = float(ding[i][1][5:12])\n",
    "            Z.append(newZ)\n",
    "alpha = np.array(alpha)\n",
    "times = np.array(times)\n",
    "framerate = 1/(times[2]-times[1])\n",
    "Z = np.array(Z)\n",
    "print(\"Length of run:\")\n",
    "print(times[-1]-times[1])\n",
    "print(\"Frames per second:\")\n",
    "print(framerate)\n",
    "print(\"Number of nodes:\")\n",
    "print(len(Z))"
   ]
  },
  {
   "cell_type": "code",
   "execution_count": 12,
   "metadata": {},
   "outputs": [],
   "source": [
    "from PIL import Image\n",
    "import glob\n",
    "import os\n",
    "\n",
    "frame_folder = 'Pictures+Movies/MovieDump' #specify the folder frames are in (if not already given above)\n",
    "gif_path = 'Pictures+Movies/May2024/AirWaterSlugs-Horizontal2.gif' #specify the desired end filepath\n",
    "\n",
    "framerate = 1 #define if using pre-made frames\n",
    "frametimemul = 1 #number of times slowdown to apply\n",
    "\n",
    "#function to make a gif indicating the folder where the frames are located, where you want the gif to save, and a slowdown multiplier to the original framerate (default 1).\n",
    "def make_gif(frame_folder, gif_path, frametimemul = 1):\n",
    "    frames = [Image.open(image) for image in sorted(glob.glob(f\"{frame_folder}/*.PNG\"), key=os.path.getmtime)]\n",
    "    frame_one = frames[0]\n",
    "    frame_one.save(f\"{gif_path}\", format=\"GIF\", append_images=frames,\n",
    "               save_all=True, duration=frametimemul/framerate, loop=1)\n",
    "    \n",
    "#run the function\n",
    "make_gif(frame_folder, gif_path, frametimemul = frametimemul)"
   ]
  },
  {
   "cell_type": "markdown",
   "metadata": {},
   "source": [
    "# MAKE MP4 FROM FRAMES"
   ]
  },
  {
   "cell_type": "code",
   "execution_count": null,
   "metadata": {},
   "outputs": [],
   "source": [
    "import os\n",
    "import glob\n",
    "import moviepy.editor as mp\n",
    "\n",
    "frame_folder = 'Pictures+Movies/MovieDump/' #specify the folder frames are in (if not already given above)\n",
    "movie_path = 'Pictures+Movies/MovieDump/RandomBCVortex.mp4' #specify the desired end filepath\n",
    "\n",
    "framerate = 3000 #define ONLY if using pre-made frames\n",
    "frametimemul = 200 #3 #number of times slowdown to apply\n",
    "\n",
    "framepaths = sorted(glob.glob(f\"{frame_folder}/*.PNG\"),key=lambda x: int(''.join(filter(str.isdigit, x))))\n",
    "clip = mp.ImageSequenceClip(framepaths, fps = framerate/frametimemul) \n",
    "clip.write_videofile(movie_path)"
   ]
  },
  {
   "cell_type": "code",
   "execution_count": null,
   "metadata": {},
   "outputs": [],
   "source": []
  }
 ],
 "metadata": {
  "kernelspec": {
   "display_name": "Python 3 (ipykernel)",
   "language": "python",
   "name": "python3"
  },
  "language_info": {
   "codemirror_mode": {
    "name": "ipython",
    "version": 3
   },
   "file_extension": ".py",
   "mimetype": "text/x-python",
   "name": "python",
   "nbconvert_exporter": "python",
   "pygments_lexer": "ipython3",
   "version": "3.11.7"
  }
 },
 "nbformat": 4,
 "nbformat_minor": 4
}
