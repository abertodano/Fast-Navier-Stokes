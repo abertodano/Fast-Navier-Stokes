{
 "cells": [
  {
   "cell_type": "markdown",
   "id": "e89d0fb5-7fec-4269-9371-9d0ea990d6ea",
   "metadata": {
    "tags": []
   },
   "source": [
    "# IMPORTS"
   ]
  },
  {
   "cell_type": "code",
   "execution_count": 1,
   "id": "8c8cd00f-12fd-43e5-bc20-a0d4a975eb6b",
   "metadata": {},
   "outputs": [],
   "source": [
    "import matplotlib as mpl\n",
    "import matplotlib.pyplot as plt\n",
    "from numba import jit\n",
    "import numpy as np\n",
    "from scipy import optimize\n",
    "\n",
    "import sys \n",
    "sys.path.append(\"C:\\\\Work\\\\Fast-Navier-Stokes\") #tell where to look for package\n",
    "#import MyPackages.periodicnumerics as num\n",
    "#from importlib import reload\n",
    "#reload(num) #make sure any changes have been loaded in, useful if modifying while running\n",
    "\n",
    "#random number gen\n",
    "rng = np.random.default_rng()"
   ]
  },
  {
   "cell_type": "markdown",
   "id": "9f8028b2-f147-45ea-9ac9-eea41e94c5a3",
   "metadata": {
    "tags": []
   },
   "source": [
    "# CODE"
   ]
  },
  {
   "cell_type": "markdown",
   "id": "c5435462-7c3c-4ac1-b962-612c2eafdf07",
   "metadata": {},
   "source": [
    "## PDE FUNCTIONS"
   ]
  },
  {
   "cell_type": "code",
   "execution_count": 51,
   "id": "c07d93fd-da4e-49d3-a9ec-73414353e346",
   "metadata": {},
   "outputs": [],
   "source": [
    "def ViscForces(u, v):\n",
    "    F_x, F_y = 0, 0 #placeholder\n",
    "    return F_x, F_y\n",
    "\n",
    "def OneStepIterateFNS(u, v, dudt_pre, dvdt_pre): #iterate time derivatives of the velocities\n",
    "    ddx_dudt, ddy_dvdt = (dudt_pre[1:] - dudt_pre[:-1])/dx, (dvdt_pre[:,1:] - dvdt_pre[:,:-1])/dy #get x div of previous iteration dudt values, y div of dvdt values at cell centers\n",
    "    dudt_post, dvdt_post = dudt_pre, dvdt_pre #placeholder\n",
    "    return dudt_post, dvdt_post #return iterated values \n",
    "\n",
    "def IteratorFNS(u, v, dudt_prev, dvdt_prev): #run multiple iterations until tolerance threshold reached\n",
    "    intol = False #init in-tolerance marker\n",
    "    dudt_pre, dvdt_pre = dudt_prev, dvdt_prev #set last timestep values as first \"guess\" pre-values\n",
    "    #itercount = 0 #number of iterations (for debugging)\n",
    "    \n",
    "    while not intol: #while not in tolerance\n",
    "        dudt_post, dvdt_post = OneStepIterateFNS(u, v, dudt_pre, dvdt_pre) #iterate\n",
    "        iterdiff_u, iterdiff_v = np.max(np.abs(dudt_post - dudt_pre)), np.max(np.abs(dvdt_post - dvdt_pre)) #max difference in velocity divs vs. last iteration\n",
    "        totaldiff_u, totaldiff_v = np.max(np.abs(dudt_post - dudt_prev)), np.max(np.abs(dvdt_post - dvdt_prev)) #max difference in velocity divs vs. last timestep\n",
    "        \n",
    "        if iterdiff_u/(totaldiff_u+1e-15) < tol and iterdiff_v/(totaldiff_v+1e-15) < tol: #check if in tolerance\n",
    "            intol = True #mark as in tolerance\n",
    "\n",
    "        dudt_pre, dvdt_pre = dudt_post, dvdt_post #push back values to \"pre\" for next iteration\n",
    "        #itercount+=1 #add to number of iterations (for debugging)\n",
    "\n",
    "    #print(itercount) #print number of iterations (for debugging)\n",
    "    return dudt_post, dvdt_post #once in tolerance, return final values\n",
    "\n",
    "def NextTimeStepFNS(u,v,dudt_prev,dvdt_prev): #midpoint method to march velocities forward in time.\n",
    "    dudt_0, dvdt_0 = IteratorFNS(u, v, dudt_prev, dvdt_prev) #solve for time divs based on intial values\n",
    "    u_mid, v_mid = u + dudt_0*dt/2, v + dvdt_0*dt/2 #get midpoint values\n",
    "\n",
    "    dudt_mid, dvdt_mid = IteratorFNS(u_mid, v_mid, dudt_0, dvdt_0) #solve for time divs based on midpoint values #using midpoint timedivs only as pre-iteration guesses and to gauge tolerance\n",
    "    u_new, v_new = u + dudt_mid*dt, v + dvdt_mid*dt #get final values\n",
    "    \n",
    "    return u_new, v_new, dudt_mid, dvdt_mid #return final values and time derivatives (to be used as guesses + for determining if in tolerance)"
   ]
  },
  {
   "cell_type": "markdown",
   "id": "99a418dc-2ecc-473d-9c6b-ec3d115ea9c0",
   "metadata": {},
   "source": [
    "## RUN FUNCTION"
   ]
  },
  {
   "cell_type": "code",
   "execution_count": 56,
   "id": "6e22add8-8e84-41cf-bbb8-b965e2246f8c",
   "metadata": {},
   "outputs": [],
   "source": [
    "def RunFNS(tend, dt, init_cond):\n",
    "    \n",
    "    ntimesteps = round(tend/dt) #number of timesteps\n",
    "    print(f'ntimesteps \\n{ntimesteps}\\n') #output the number of timesteps to be run\n",
    "\n",
    "    #if shortmemory: #if only one timestep to be kept #FOR LATER WHEN I'M NOT DEBUGGING\n",
    "    #else: #if all timesteps to be kept\n",
    "    \n",
    "    #initialize arrays for data, ntimesteps x Nx(+1) x Ny(+1)\n",
    "    u, v, dudt, dvdt = np.zeros((ntimesteps,Nx+1,Ny)), np.zeros((ntimesteps,Nx,Ny+1)), np.zeros((ntimesteps,Nx+1,Ny)), np.zeros((ntimesteps,Nx,Ny+1)) #face velocities, time derivatives\n",
    "    \n",
    "    #load initial conditions\n",
    "    u[0], v[0], dudt[0], dvdt[0] = init_cond\n",
    "    \n",
    "    #run the code, iterating timesteps\n",
    "    for i in range(1,ntimesteps):\n",
    "        u[i], v[i], dudt[i], dvdt[i] = NextTimeStepFNS(u[i-1],v[i-1],dudt[i-1],dvdt[i-1]) #set new variable values after a timestep #get time derivatives to be used as guesses + for determining tolerance\n",
    "        if np.any(np.isnan(u[i])) | np.any(np.isnan(v[i])): #break if blown up\n",
    "            print(f'Blowup at timestep {i}, t = {i*dt:.5}')\n",
    "            break\n",
    "        if i%10000 == 0: #output progress every 10000 timesteps\n",
    "            print('timestep: ' + str(i))\n",
    "    \n",
    "    return u, v"
   ]
  },
  {
   "cell_type": "markdown",
   "id": "df31e5fe-3fe6-472b-8e55-eb5e165b3cfb",
   "metadata": {},
   "source": [
    "# INPUT DECK"
   ]
  },
  {
   "cell_type": "code",
   "execution_count": 57,
   "id": "70733664-cd48-4db4-81b6-30d9bfbde33f",
   "metadata": {},
   "outputs": [
    {
     "name": "stdout",
     "output_type": "stream",
     "text": [
      "Timestep: 0.0001 s\n"
     ]
    }
   ],
   "source": [
    "lx, ly = 0.01, 0.01 #dimensions of simulation box in m, m\n",
    "nu = 1e-5 #kinematic viscosity in m/s^2\n",
    "\n",
    "#numerical parameters\n",
    "Nx, Ny = 100, 100 #number of nodes each side\n",
    "dx, dy = lx/Nx, ly/Ny #dimensions of each node\n",
    "v_Co = 1 #Courant velocity (dx/dt) in m/s\n",
    "dt = min(dx, dy)/v_Co #timestep in s\n",
    "print(f'Timestep: {dt:.2}s')\n",
    "tol = 1e-6 #tolerance of iterator (acceptable ratio of timediv diffs between iterations over diffs w.r.t. last timestep)"
   ]
  },
  {
   "cell_type": "markdown",
   "id": "6461741c-962b-45bf-85de-b73da825be81",
   "metadata": {},
   "source": [
    "# INITIAL CONDITIONS"
   ]
  },
  {
   "cell_type": "code",
   "execution_count": 54,
   "id": "f571ee8e-55e6-4bd3-b69c-e743749a91e2",
   "metadata": {},
   "outputs": [],
   "source": [
    "u0 = np.ones((Nx+1,Ny))*.1 #velocity in x direction, at horizontal cell faces\n",
    "v0 = np.zeros((Nx,Ny+1)) #velocity in y direction, at vertical cell faces\n",
    "#P0 = np.zeros((Nx,Ny)) #pressure #doing this for now because the initial pressure doesn't actually matter now. Can try doing a simple Laplace solver on the BC's as an upgrade.\n",
    "dudt0, dvdt0 = np.zeros((Nx+1,Ny)), np.zeros((Nx,Ny+1)) #guess time derivatives as 0 to start with\n",
    "\n",
    "init_cond0 = [u0, v0, dudt0, dvdt0] #packed list of initial conditions"
   ]
  },
  {
   "cell_type": "markdown",
   "id": "e188b7f9-ac2f-42b3-a01a-da093b7fd76c",
   "metadata": {},
   "source": [
    "# RUN"
   ]
  },
  {
   "cell_type": "code",
   "execution_count": 55,
   "id": "9d7f512e-a1d7-4fc3-94dd-fd655bfeca22",
   "metadata": {},
   "outputs": [
    {
     "name": "stdout",
     "output_type": "stream",
     "text": [
      "ntimesteps \n",
      "2\n",
      "\n",
      "(100, 100) (100, 100)\n",
      "(100, 100) (100, 100)\n"
     ]
    }
   ],
   "source": [
    "tend = 0*1. + 2*dt #simulated time in seconds\n",
    "ic = init_cond0 #initial conditions to be used\n",
    "u, v = RunFNS(tend, dt, ic)"
   ]
  },
  {
   "cell_type": "code",
   "execution_count": 18,
   "id": "d6d272a7-c3df-401f-ad32-40ba1532d8a9",
   "metadata": {},
   "outputs": [
    {
     "name": "stdout",
     "output_type": "stream",
     "text": [
      "[[0.1 0.1 0.1 ... 0.1 0.1 0.1]\n",
      " [0.1 0.1 0.1 ... 0.1 0.1 0.1]\n",
      " [0.1 0.1 0.1 ... 0.1 0.1 0.1]\n",
      " ...\n",
      " [0.1 0.1 0.1 ... 0.1 0.1 0.1]\n",
      " [0.1 0.1 0.1 ... 0.1 0.1 0.1]\n",
      " [0.1 0.1 0.1 ... 0.1 0.1 0.1]]\n"
     ]
    }
   ],
   "source": [
    "print(u[10000])"
   ]
  },
  {
   "cell_type": "markdown",
   "id": "4229814d-d7b6-40b8-b790-c48c152de5bb",
   "metadata": {},
   "source": [
    "# MISC"
   ]
  },
  {
   "cell_type": "code",
   "execution_count": 48,
   "id": "27aa4374-085a-414a-917a-47806f702856",
   "metadata": {},
   "outputs": [
    {
     "data": {
      "text/plain": [
       "(101, 99)"
      ]
     },
     "execution_count": 48,
     "metadata": {},
     "output_type": "execute_result"
    }
   ],
   "source": [
    "arr = rng.random((Nx+1,Ny))\n",
    "np.shape(arr[:,1:])"
   ]
  },
  {
   "cell_type": "code",
   "execution_count": 25,
   "id": "f5229af3-5739-4426-a76c-5fc1c2d98190",
   "metadata": {},
   "outputs": [],
   "source": [
    "@jit(nopython=True)\n",
    "def cutarray_numpy(arr):\n",
    "    cutarr = arr[1:][:]\n",
    "    return cutarr"
   ]
  },
  {
   "cell_type": "code",
   "execution_count": 26,
   "id": "559e59d2-a0c0-49f1-8f4b-104e474cd866",
   "metadata": {},
   "outputs": [],
   "source": [
    "@jit(nopython=True)\n",
    "def cutarray_manual(arr):\n",
    "    shape = np.shape(arr) #get initial shape\n",
    "    cutarr = np.zeros((shape[0]-1,shape[1])) #init cut arr\n",
    "    for i in range(shape[0]-1): #fill\n",
    "        for j in range(shape[1]):\n",
    "            cutarr[i][j] = arr[i+1][j]\n",
    "    cutarr = arr[1:][:]\n",
    "    return cutarr"
   ]
  },
  {
   "cell_type": "code",
   "execution_count": 37,
   "id": "ccad6914-5aba-4b57-9b0b-6c2f75962f30",
   "metadata": {},
   "outputs": [],
   "source": [
    "#%%timeit\n",
    "cutarr0 = cutarray_numpy(arr)"
   ]
  },
  {
   "cell_type": "code",
   "execution_count": 36,
   "id": "3410699c-4c9f-4a4e-a1ba-e5dea0f13f24",
   "metadata": {},
   "outputs": [],
   "source": [
    "#%%timeit\n",
    "cutarr1 = cutarray_manual(arr)"
   ]
  },
  {
   "cell_type": "code",
   "execution_count": 40,
   "id": "3391953b-0818-41ef-b5bd-7cbc7f856080",
   "metadata": {},
   "outputs": [],
   "source": [
    "# WAY SLOWER TO DO THIS MANUALLY"
   ]
  },
  {
   "cell_type": "code",
   "execution_count": 39,
   "id": "7968d63c-cb9f-4b0b-bfb5-f18370c4d0be",
   "metadata": {},
   "outputs": [
    {
     "data": {
      "text/plain": [
       "True"
      ]
     },
     "execution_count": 39,
     "metadata": {},
     "output_type": "execute_result"
    }
   ],
   "source": [
    "np.all(cutarr0 == cutarr1)"
   ]
  },
  {
   "cell_type": "code",
   "execution_count": null,
   "id": "9e611119-41dd-4a33-bad9-fa5210ee8ee8",
   "metadata": {},
   "outputs": [],
   "source": []
  }
 ],
 "metadata": {
  "kernelspec": {
   "display_name": "Python 3 (ipykernel)",
   "language": "python",
   "name": "python3"
  },
  "language_info": {
   "codemirror_mode": {
    "name": "ipython",
    "version": 3
   },
   "file_extension": ".py",
   "mimetype": "text/x-python",
   "name": "python",
   "nbconvert_exporter": "python",
   "pygments_lexer": "ipython3",
   "version": "3.11.7"
  }
 },
 "nbformat": 4,
 "nbformat_minor": 5
}
